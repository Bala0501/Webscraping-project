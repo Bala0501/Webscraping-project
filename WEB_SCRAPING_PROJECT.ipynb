{
  "nbformat": 4,
  "nbformat_minor": 0,
  "metadata": {
    "colab": {
      "name": "WEB SCRAPING PROJECT.ipynb",
      "provenance": [],
      "collapsed_sections": []
    },
    "kernelspec": {
      "name": "python3",
      "display_name": "Python 3"
    },
    "language_info": {
      "name": "python"
    }
  },
  "cells": [
    {
      "cell_type": "code",
      "metadata": {
        "id": "1RIWhEf0uW2l"
      },
      "source": [
        "import pandas as pd\n",
        "import requests\n",
        "from bs4 import BeautifulSoup\n",
        "import numpy as np "
      ],
      "execution_count": 26,
      "outputs": []
    },
    {
      "cell_type": "code",
      "metadata": {
        "id": "sQ0UXCUAvJfX"
      },
      "source": [
        "url= 'https://www.imdb.com/search/title/?count=100&groups=top_1000&sort=user_rating'\n",
        "response = requests.get(url)\n",
        "soup = BeautifulSoup(response.content, 'html.parser')"
      ],
      "execution_count": 6,
      "outputs": []
    },
    {
      "cell_type": "code",
      "metadata": {
        "id": "LG4us8Lzw5il"
      },
      "source": [
        "movie_name = []\n",
        "year = []\n",
        "time = []\n",
        "rating = []\n",
        "metascore =[]\n",
        "votes = []\n",
        "gross = []\n"
      ],
      "execution_count": 81,
      "outputs": []
    },
    {
      "cell_type": "code",
      "metadata": {
        "id": "NHrLAexlxPFK"
      },
      "source": [
        "movie_data = soup.findAll('div', attrs = {'class' :'lister-item mode-advanced'})"
      ],
      "execution_count": 80,
      "outputs": []
    },
    {
      "cell_type": "code",
      "metadata": {
        "id": "1Z4C5sjIx8CQ"
      },
      "source": [
        "for store in Movie_data:\n",
        "  name = store.h3.a.text\n",
        "  movie_name.append(name)\n",
        "\n",
        "  year_of_release = store.h3.find('span', class_ = 'lister-item-year text-muted unbold').text.replace('(','').replace(')','')\n",
        "  year.append(year_of_release)\n",
        "\n",
        "  runtime = store.p.find('span', class_ = 'runtime').text.replace(' min','')\n",
        "  time.append(runtime)\n",
        "\n",
        "  rate = store.find('div',class_ = 'inline-block ratings-imdb-rating').text.replace('\\n','')\n",
        "  rating.append(rate)\n",
        "\n",
        "  meta = store.find('span', class_ = 'metascore').text.replace(' ',  '') if store.find('span', class_ = 'metascore') else '^^^^^'\n",
        "  metascore.append(meta)\n",
        "\n",
        "  value = store.find_all('span', attrs = {'name': 'nv'})\n",
        "\n",
        "  vote = value[0].text\n",
        "  votes.append(vote)\n",
        "\n",
        "  grosses = value[1].text if len(value) > 1 else '^^^^^^'\n",
        "  gross.append(grosses)"
      ],
      "execution_count": 82,
      "outputs": []
    },
    {
      "cell_type": "code",
      "metadata": {
        "id": "tKE9Y62TyLgs"
      },
      "source": [
        "movie_DF = pd.DataFrame({'Name of movie': movie_name, 'Year of release': year, 'Watchtime': time, 'Movie Rating': rating, 'Metascore': metascore, 'Votes': votes, 'Gross Collection': gross})"
      ],
      "execution_count": 87,
      "outputs": []
    },
    {
      "cell_type": "code",
      "metadata": {
        "colab": {
          "base_uri": "https://localhost:8080/",
          "height": 417
        },
        "id": "ejf7JPfK71h7",
        "outputId": "2efdee0b-379e-4856-ebca-b4e674a984cc"
      },
      "source": [
        "movie_DF.head(70)"
      ],
      "execution_count": 93,
      "outputs": [
        {
          "output_type": "execute_result",
          "data": {
            "text/html": [
              "<div>\n",
              "<style scoped>\n",
              "    .dataframe tbody tr th:only-of-type {\n",
              "        vertical-align: middle;\n",
              "    }\n",
              "\n",
              "    .dataframe tbody tr th {\n",
              "        vertical-align: top;\n",
              "    }\n",
              "\n",
              "    .dataframe thead th {\n",
              "        text-align: right;\n",
              "    }\n",
              "</style>\n",
              "<table border=\"1\" class=\"dataframe\">\n",
              "  <thead>\n",
              "    <tr style=\"text-align: right;\">\n",
              "      <th></th>\n",
              "      <th>Name of movie</th>\n",
              "      <th>Year of release</th>\n",
              "      <th>Watchtime</th>\n",
              "      <th>Movie Rating</th>\n",
              "      <th>Metascore</th>\n",
              "      <th>Votes</th>\n",
              "      <th>Gross Collection</th>\n",
              "    </tr>\n",
              "  </thead>\n",
              "  <tbody>\n",
              "    <tr>\n",
              "      <th>0</th>\n",
              "      <td>The Shawshank Redemption</td>\n",
              "      <td>1994</td>\n",
              "      <td>142</td>\n",
              "      <td>9.3</td>\n",
              "      <td>80</td>\n",
              "      <td>2,474,674</td>\n",
              "      <td>$28.34M</td>\n",
              "    </tr>\n",
              "    <tr>\n",
              "      <th>1</th>\n",
              "      <td>The Godfather</td>\n",
              "      <td>1972</td>\n",
              "      <td>175</td>\n",
              "      <td>9.2</td>\n",
              "      <td>100</td>\n",
              "      <td>1,709,777</td>\n",
              "      <td>$134.97M</td>\n",
              "    </tr>\n",
              "    <tr>\n",
              "      <th>2</th>\n",
              "      <td>Soorarai Pottru</td>\n",
              "      <td>2020</td>\n",
              "      <td>153</td>\n",
              "      <td>9.1</td>\n",
              "      <td>^^^^^</td>\n",
              "      <td>90,529</td>\n",
              "      <td>^^^^^^</td>\n",
              "    </tr>\n",
              "    <tr>\n",
              "      <th>3</th>\n",
              "      <td>The Dark Knight</td>\n",
              "      <td>2008</td>\n",
              "      <td>152</td>\n",
              "      <td>9.0</td>\n",
              "      <td>84</td>\n",
              "      <td>2,428,723</td>\n",
              "      <td>$534.86M</td>\n",
              "    </tr>\n",
              "    <tr>\n",
              "      <th>4</th>\n",
              "      <td>The Godfather: Part II</td>\n",
              "      <td>1974</td>\n",
              "      <td>202</td>\n",
              "      <td>9.0</td>\n",
              "      <td>90</td>\n",
              "      <td>1,187,674</td>\n",
              "      <td>$57.30M</td>\n",
              "    </tr>\n",
              "    <tr>\n",
              "      <th>...</th>\n",
              "      <td>...</td>\n",
              "      <td>...</td>\n",
              "      <td>...</td>\n",
              "      <td>...</td>\n",
              "      <td>...</td>\n",
              "      <td>...</td>\n",
              "      <td>...</td>\n",
              "    </tr>\n",
              "    <tr>\n",
              "      <th>65</th>\n",
              "      <td>Avengers: Infinity War</td>\n",
              "      <td>2018</td>\n",
              "      <td>149</td>\n",
              "      <td>8.4</td>\n",
              "      <td>68</td>\n",
              "      <td>930,860</td>\n",
              "      <td>$678.82M</td>\n",
              "    </tr>\n",
              "    <tr>\n",
              "      <th>66</th>\n",
              "      <td>Coco</td>\n",
              "      <td>I 2017</td>\n",
              "      <td>105</td>\n",
              "      <td>8.4</td>\n",
              "      <td>81</td>\n",
              "      <td>435,318</td>\n",
              "      <td>$209.73M</td>\n",
              "    </tr>\n",
              "    <tr>\n",
              "      <th>67</th>\n",
              "      <td>Django Unchained</td>\n",
              "      <td>2012</td>\n",
              "      <td>165</td>\n",
              "      <td>8.4</td>\n",
              "      <td>81</td>\n",
              "      <td>1,433,242</td>\n",
              "      <td>$162.81M</td>\n",
              "    </tr>\n",
              "    <tr>\n",
              "      <th>68</th>\n",
              "      <td>The Dark Knight Rises</td>\n",
              "      <td>2012</td>\n",
              "      <td>164</td>\n",
              "      <td>8.4</td>\n",
              "      <td>78</td>\n",
              "      <td>1,583,532</td>\n",
              "      <td>$448.14M</td>\n",
              "    </tr>\n",
              "    <tr>\n",
              "      <th>69</th>\n",
              "      <td>3 Idiots</td>\n",
              "      <td>2009</td>\n",
              "      <td>170</td>\n",
              "      <td>8.4</td>\n",
              "      <td>67</td>\n",
              "      <td>369,163</td>\n",
              "      <td>$6.53M</td>\n",
              "    </tr>\n",
              "  </tbody>\n",
              "</table>\n",
              "<p>70 rows × 7 columns</p>\n",
              "</div>"
            ],
            "text/plain": [
              "               Name of movie Year of release  ...      Votes Gross Collection\n",
              "0   The Shawshank Redemption            1994  ...  2,474,674          $28.34M\n",
              "1              The Godfather            1972  ...  1,709,777         $134.97M\n",
              "2            Soorarai Pottru            2020  ...     90,529           ^^^^^^\n",
              "3            The Dark Knight            2008  ...  2,428,723         $534.86M\n",
              "4     The Godfather: Part II            1974  ...  1,187,674          $57.30M\n",
              "..                       ...             ...  ...        ...              ...\n",
              "65    Avengers: Infinity War            2018  ...    930,860         $678.82M\n",
              "66                      Coco          I 2017  ...    435,318         $209.73M\n",
              "67          Django Unchained            2012  ...  1,433,242         $162.81M\n",
              "68     The Dark Knight Rises            2012  ...  1,583,532         $448.14M\n",
              "69                  3 Idiots            2009  ...    369,163           $6.53M\n",
              "\n",
              "[70 rows x 7 columns]"
            ]
          },
          "metadata": {},
          "execution_count": 93
        }
      ]
    }
  ]
}